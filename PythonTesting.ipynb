{
 "cells": [
  {
   "cell_type": "code",
   "execution_count": 4,
   "metadata": {},
   "outputs": [],
   "source": [
    "import platform\n",
    "from dymola.dymola_interface import DymolaInterface\n",
    "from dymola.dymola_exception import DymolaException"
   ]
  },
  {
   "cell_type": "code",
   "execution_count": 11,
   "metadata": {},
   "outputs": [],
   "source": [
    "dymola = DymolaInterface(\"/opt/dymola-2019-x86_64/bin64/dymola.sh\")"
   ]
  },
  {
   "cell_type": "code",
   "execution_count": 12,
   "metadata": {},
   "outputs": [
    {
     "name": "stdout",
     "output_type": "stream",
     "text": [
      "OK\n"
     ]
    }
   ],
   "source": [
    "try:\n",
    "    # Call a function in Dymola and check its return value\n",
    "    result = dymola.simulateModel(\"Modelica.Mechanics.Rotational.Examples.CoupledClutches\")\n",
    "    if not result:\n",
    "        print(\"Simulation failed. Below is the translation log.\")\n",
    "        log = dymola.getLastErrorLog()\n",
    "        print(log)\n",
    "        exit(1)\n",
    "\n",
    "    dymola.plot([\"J1.w\", \"J2.w\", \"J3.w\", \"J4.w\"])\n",
    "    plotPath = \"/home/manuelnvro/dev/Gitted/ModelicaPythonTesting/WorkingDir/plot.png\"\n",
    "    dymola.ExportPlotAsImage(plotPath)\n",
    "    print(\"OK\")\n",
    "except DymolaException as ex:\n",
    "    print((\"Error: \" + str(ex)))\n",
    "finally:\n",
    "    if dymola is not None:\n",
    "        dymola.close()\n",
    "        dymola = None"
   ]
  },
  {
   "cell_type": "code",
   "execution_count": null,
   "metadata": {},
   "outputs": [],
   "source": []
  }
 ],
 "metadata": {
  "kernelspec": {
   "display_name": "Python 3",
   "language": "python",
   "name": "python3"
  },
  "language_info": {
   "codemirror_mode": {
    "name": "ipython",
    "version": 3
   },
   "file_extension": ".py",
   "mimetype": "text/x-python",
   "name": "python",
   "nbconvert_exporter": "python",
   "pygments_lexer": "ipython3",
   "version": "3.7.4"
  }
 },
 "nbformat": 4,
 "nbformat_minor": 4
}
