{
 "cells": [
  {
   "cell_type": "code",
   "execution_count": 23,
   "metadata": {},
   "outputs": [],
   "source": [
    "import platform\n",
    "from dymola.dymola_interface import DymolaInterface\n",
    "from dymola.dymola_exception import DymolaException\n",
    "from modelicares import SimRes\n",
    "import pandas as pd\n",
    "import numpy as np\n",
    "#import matplotlib.pyplot as plt"
   ]
  },
  {
   "cell_type": "code",
   "execution_count": 24,
   "metadata": {},
   "outputs": [
    {
     "data": {
      "text/plain": [
       "True"
      ]
     },
     "execution_count": 24,
     "metadata": {},
     "output_type": "execute_result"
    }
   ],
   "source": [
    "dymola = DymolaInterface(\"/opt/dymola-2020-x86_64/bin64/dymola.sh\")\n",
    "dymola.openModel(\"/home/manuelnvro/dev/Gitted/PythonTesting/OpenIPSL-master/OpenIPSL/package.mo\") #OpenIPSL library"
   ]
  },
  {
   "cell_type": "code",
   "execution_count": 25,
   "metadata": {},
   "outputs": [
    {
     "name": "stdout",
     "output_type": "stream",
     "text": [
      "Simulation OK\n",
      "(0, 9)\n",
      "Vars OK\n",
      "Write OK\n"
     ]
    }
   ],
   "source": [
    "#This is to use with Dell Lab computer with Modelica 2020\n",
    "try:\n",
    "    dymola.cd(\"/home/manuelnvro/dev/Gitted/PythonTesting/WorkingDir\")\n",
    "    resultPath = \"/home/manuelnvro/dev/Gitted/PythonTesting/WorkingDir/EXAC1\"\n",
    "    # Call a function in Dymola and check its return value\n",
    "    result = dymola.simulateModel(\"OpenIPSL.Examples.Controls.PSSE.ES.EXAC1\", \n",
    "                                  numberOfIntervals = 5000,\n",
    "                                 resultFile = resultPath)\n",
    "\n",
    "    if not result:\n",
    "        print(\"Simulation failed. Below is the translation log.\")\n",
    "        log = dymola.getLastErrorLog()\n",
    "        print(log)\n",
    "        exit(1)\n",
    "        \n",
    "    print(\"Simulation OK\")\n",
    "    sim = SimRes(\"/home/manuelnvro/dev/Gitted/PythonTesting/WorkingDir/EXAC1.mat\")\n",
    "    #n = dymola.readTrajectorySize(\"/home/manuelnvro/dev/Gitted/PythonTesting/WorkingDir/EXAC1.mat\")\n",
    "    #print(n)\n",
    "    #print(\"Read OK\")\n",
    "    \n",
    "    variables = ['Time', 'gENROE.delta','gENROE.PELEC', 'eXAC1_1.EFD','gENROE.SPEED', 'GEN1.V', 'LOAD.V', 'GEN2.V', 'FAULT.V' ]\n",
    "    \n",
    "    df_variables = pd.DataFrame([], columns = variables)\n",
    "    print(df_variables.shape)\n",
    "    \n",
    "    for var in variables:\n",
    "        df_variables.drop(var, axis = 1, inplace = True)\n",
    "        df_variables[var] = np.array(sim[var].values())\n",
    "        \n",
    "\n",
    "    #varnames = {\"Time\",\"gENROE.delta\",\"gENROE.PELEC\"}\n",
    "    #print(varnames)\n",
    "    print(\"Vars OK\")\n",
    "    \n",
    "    df_variables.to_csv('data.csv', index = False)\n",
    "    #trajectories = dymola.readTrajectory(\"/home/dorads/Documents/Manuel/PythonTesting-master/WorkingDir/EXAC1.mat\",  {\"Time\",\"gENROE.delta\",\"gENROE.PELEC\"}, n)\n",
    "    #print(\"Trajectories OK\")\n",
    "    #dymola.DataFiles.writeCSVmatrix(\"EXAC1.csv\",varnames,transpose(trajectories))\n",
    "    print(\"Write OK\")\n",
    "\n",
    "    \n",
    "except DymolaException as ex:\n",
    "    print((\"Error: \" + str(ex)))\n",
    "finally:\n",
    "    pass\n",
    "    #if dymola is not None:\n",
    "        #dymola.close()\n",
    "        #dymola = None"
   ]
  },
  {
   "cell_type": "code",
   "execution_count": null,
   "metadata": {},
   "outputs": [],
   "source": []
  }
 ],
 "metadata": {
  "kernelspec": {
   "display_name": "Python 3",
   "language": "python",
   "name": "python3"
  },
  "language_info": {
   "codemirror_mode": {
    "name": "ipython",
    "version": 3
   },
   "file_extension": ".py",
   "mimetype": "text/x-python",
   "name": "python",
   "nbconvert_exporter": "python",
   "pygments_lexer": "ipython3",
   "version": "3.7.4"
  }
 },
 "nbformat": 4,
 "nbformat_minor": 2
}
