{
 "cells": [
  {
   "cell_type": "code",
   "execution_count": 5,
   "metadata": {},
   "outputs": [],
   "source": [
    "import platform\n",
    "from dymola.dymola_interface import DymolaInterface\n",
    "from dymola.dymola_exception import DymolaException\n",
    "from modelicares import SimRes\n",
    "import pandas as pd\n",
    "import numpy as np\n",
    "import os\n",
    "import shutil"
   ]
  },
  {
   "cell_type": "code",
   "execution_count": 198,
   "metadata": {},
   "outputs": [],
   "source": [
    "#This is intended to be used in the manuelnvro Dell using Dymola 2020"
   ]
  },
  {
   "cell_type": "code",
   "execution_count": 6,
   "metadata": {},
   "outputs": [
    {
     "name": "stdout",
     "output_type": "stream",
     "text": [
      "Dymola Machines Simulation Start...\n",
      "\n"
     ]
    }
   ],
   "source": [
    "#Setting Dymola Interface\n",
    "dymola = DymolaInterface(\"/opt/dymola-2020-x86_64/bin64/dymola.sh\")\n",
    "#Setting OpenIPSL library\n",
    "dymola.openModel(\"/home/manuelnvro/dev/Gitted/PythonTesting/OpenIPSL-master/OpenIPSL/package.mo\") \n",
    "print(\"Dymola Turbine Governors Simulation Start...\\n\")"
   ]
  },
  {
   "cell_type": "code",
   "execution_count": 7,
   "metadata": {},
   "outputs": [],
   "source": [
    "#Creation of matrix with names, paths and variables\n",
    "turgovernors = { 'names' : [\"BBGOV1\",\"GAST\", \"GAST2A\", \"GGOV1\", \"HYGOV\", \"IEEG1\", \"IEESGO\", \"TGOV1\", \"WEHGOV\", \n",
    "                            \"WESGOV\", \"WSHYDD\", \"WSHYGP\"],\n",
    "            'path' : [\"OpenIPSL.Examples.Controls.PSSE.TG.BBGOV1\",\"OpenIPSL.Examples.Controls.PSSE.TG.GAST\", \n",
    "                      \"OpenIPSL.Examples.Controls.PSSE.TG.GAST\", \"OpenIPSL.Examples.Controls.PSSE.TG.GAST2A\", \n",
    "                      \"OpenIPSL.Examples.Controls.PSSE.TG.GGOV1\", \"OpenIPSL.Examples.Controls.PSSE.TG.HYGOV\", \n",
    "                      \"OpenIPSL.Examples.Controls.PSSE.TG.IEEEG1\", \"OpenIPSL.Examples.Controls.PSSE.TG.IEEEGO\",\n",
    "                      \"OpenIPSL.Examples.Controls.PSSE.TG.TGOV1\", \"OpenIPSL.Examples.Controls.PSSE.TG.WEHGOV\", \n",
    "                      \"OpenIPSL.Examples.Controls.PSSE.TG.WESGOV\", \"OpenIPSL.Examples.Controls.PSSE.TG.WSHYDD\", \n",
    "                      \"OpenIPSL.Examples.Controls.PSSE.TG.WSHYGP\"],\n",
    "            'delta' : [\"bBGOV1.delta\",\"gAST.delta\", \"gAST2A.delta\", \"gGOV1.delta\", \"hYGOV.delta\", \"iEEG1.delta\", \n",
    "                       \"iEESGO.delta\", \"tGOV1.delta\", \"wEHGOV.delta\", \"wESGOV.delta\", \"wSHYDD.delta\", \"wSHYGP.delta\"],\n",
    "           'pelec' : [\"bBGOV1.\",\"gAST.delta\", \"gAST2A.delta\", \"gGOV1.delta\", \"hYGOV.delta\", \"iEEG1.delta\", \n",
    "                       \"iEESGO.delta\", \"tGOV1.delta\", \"wEHGOV.delta\", \"wESGOV.delta\", \"wSHYDD.delta\", \"wSHYGP.delta\"],\n",
    "           'speed' : [\"bBGOV1.delta\",\"gAST.delta\", \"gAST2A.delta\", \"gGOV1.delta\", \"hYGOV.delta\", \"iEEG1.delta\", \n",
    "                       \"iEESGO.delta\", \"tGOV1.delta\", \"wEHGOV.delta\", \"wESGOV.delta\", \"wSHYDD.delta\", \"wSHYGP.delta\"]}\n"
   ]
  },
  {
   "cell_type": "code",
   "execution_count": 8,
   "metadata": {},
   "outputs": [],
   "source": [
    "#Delete old results\n",
    "shutil.rmtree('/home/manuelnvro/dev/Gitted/PythonTesting/WorkingDir/Dymola/Machines/')\n",
    "#Create Exciters folder\n",
    "os.makedirs('/home/manuelnvro/dev/Gitted/PythonTesting/WorkingDir/Dymola/Machines/')\n",
    "os.chdir(f\"/home/manuelnvro/dev/Gitted/PythonTesting/WorkingDir/Dymola/Machines/\")\n",
    "for machineNumber, machineName in enumerate(machines['names']):\n",
    "    os.makedirs(f'{machineName}')"
   ]
  },
  {
   "cell_type": "code",
   "execution_count": 10,
   "metadata": {},
   "outputs": [
    {
     "name": "stdout",
     "output_type": "stream",
     "text": [
      "GENROU Simulation Start...\n",
      "GENROU Simulation OK...\n",
      ".csv Writing Start...\n",
      "GENROU Variables OK...\n",
      "GENROU Write OK...\n",
      "\n",
      "Delete OK...\n",
      "\n",
      "GENSAL Simulation Start...\n",
      "GENSAL Simulation OK...\n",
      ".csv Writing Start...\n",
      "GENSAL Variables OK...\n",
      "GENSAL Write OK...\n",
      "\n",
      "Delete OK...\n",
      "\n",
      "GENCLS Simulation Start...\n",
      "Simulation failed or model was not found. Below is the translation log:\n",
      "\n",
      "Translation of <a href=\"Modelica://OpenIPSL.Examples.Machines.PSSE.GENCLS\">OpenIPSL.Examples.Machines.PSSE.GENCLS</a>:\n",
      "Did not find model OpenIPSL.Examples.Machines.PSSE.GENCLS\n",
      "Error: ERRORS have been issued.\n",
      "\n",
      "Delete OK...\n",
      "\n",
      "GENROE Simulation Start...\n",
      "GENROE Simulation OK...\n",
      ".csv Writing Start...\n",
      "GENROE Variables OK...\n",
      "GENROE Write OK...\n",
      "\n",
      "Delete OK...\n",
      "\n",
      "GENSAE Simulation Start...\n",
      "GENSAE Simulation OK...\n",
      ".csv Writing Start...\n",
      "GENSAE Variables OK...\n",
      "GENSAE Write OK...\n",
      "\n",
      "Delete OK...\n",
      "\n",
      "CSVGN1 Simulation Start...\n",
      "Simulation failed or model was not found. Below is the translation log:\n",
      "\n",
      "Translation of <a href=\"Modelica://OpenIPSL.Examples.Machines.PSSE.CSVGN1\">OpenIPSL.Examples.Machines.PSSE.CSVGN1</a>:\n",
      "Did not find model OpenIPSL.Examples.Machines.PSSE.CSVGN1\n",
      "Error: ERRORS have been issued.\n",
      "\n",
      "Delete OK...\n",
      "\n",
      "Machine Examples Simulation OK...\n"
     ]
    }
   ],
   "source": [
    "#For loop that will iterate between machines, simulate, and create the .csv file\n",
    "for machineNumber, machineName in enumerate(machines['names']):\n",
    "    try:\n",
    "        print(f\"{machineName} Simulation Start...\")\n",
    "        dymola.cd(\"/home/manuelnvro/dev/Gitted/PythonTesting/WorkingDir/Dymola/Machines/\" + machineName)\n",
    "        resultPath = f\"/home/manuelnvro/dev/Gitted/PythonTesting/WorkingDir/Dymola/Machines/{machineName}/\" + machineName\n",
    "        result = dymola.simulateModel(machines['path'][machineNumber], \n",
    "                                stopTime=10.0,\n",
    "                                numberOfIntervals = 5000,\n",
    "                                resultFile = resultPath)\n",
    "        if not result:\n",
    "            print(\"Simulation failed or model was not found. Below is the translation log:\\n\")\n",
    "            log = dymola.getLastErrorLog()\n",
    "            print(log)\n",
    "        else:\n",
    "            print(f\"{machineName} Simulation OK...\")\n",
    "            print(\".csv Writing Start...\")\n",
    "            #Selecting Result File\n",
    "            sim = SimRes(f\"/home/manuelnvro/dev/Gitted/PythonTesting/WorkingDir/Dymola/Machines/{machineName}/{machineName}.mat\")\n",
    "            #Selecting Variables\n",
    "            variables = ['Time', machines['delta'][machineNumber], machines['pelec'][machineNumber], machines['speed'][machineNumber], 'GEN1.V', 'LOAD.V', 'GEN2.V', 'FAULT.V' ]\n",
    "            df_variables = pd.DataFrame([], columns = variables)\n",
    "            for var in variables:\n",
    "                df_variables.drop(var, axis = 1, inplace = True)\n",
    "                df_variables[var] = np.array(sim[var].values())\n",
    "            print(f\"{machineName} Variables OK...\")\n",
    "            #Changing current directory\n",
    "            os.chdir(f\"/home/manuelnvro/dev/Gitted/PythonTesting/WorkingDir/Dymola/Machines/\")\n",
    "            df_variables.to_csv(f'{machineName}.csv', index = False)          \n",
    "            print(f\"{machineName} Write OK...\")       \n",
    "        try:\n",
    "            shutil.rmtree(f\"/home/manuelnvro/dev/Gitted/PythonTesting/WorkingDir/Dymola/Machines/{machineName}/\")\n",
    "            print(\"Delete OK...\\n\")\n",
    "        except:\n",
    "            pass          \n",
    "    except DymolaException as ex:\n",
    "        print(\"Error: \" + str(ex))\n",
    "print('Machine Examples Simulation OK...')"
   ]
  },
  {
   "cell_type": "code",
   "execution_count": null,
   "metadata": {},
   "outputs": [],
   "source": []
  }
 ],
 "metadata": {
  "kernelspec": {
   "display_name": "Python 3",
   "language": "python",
   "name": "python3"
  },
  "language_info": {
   "codemirror_mode": {
    "name": "ipython",
    "version": 3
   },
   "file_extension": ".py",
   "mimetype": "text/x-python",
   "name": "python",
   "nbconvert_exporter": "python",
   "pygments_lexer": "ipython3",
   "version": "3.7.4"
  }
 },
 "nbformat": 4,
 "nbformat_minor": 2
}
