{
 "cells": [
  {
   "cell_type": "code",
   "execution_count": 3,
   "metadata": {},
   "outputs": [],
   "source": [
    "import platform\n",
    "from dymola.dymola_interface import DymolaInterface\n",
    "from dymola.dymola_exception import DymolaException\n",
    "from modelicares import SimRes\n",
    "import pandas as pd\n",
    "import numpy as np\n",
    "import os"
   ]
  },
  {
   "cell_type": "code",
   "execution_count": 198,
   "metadata": {},
   "outputs": [],
   "source": [
    "#This is intended to be used in the manuelnvro Dell using Dymola 2020"
   ]
  },
  {
   "cell_type": "code",
   "execution_count": 16,
   "metadata": {},
   "outputs": [
    {
     "name": "stdout",
     "output_type": "stream",
     "text": [
      "Dymola Exciters Simulation Start...\n",
      "\n"
     ]
    }
   ],
   "source": [
    "#Setting Dymola Interface\n",
    "dymola = DymolaInterface(\"/opt/dymola-2020-x86_64/bin64/dymola.sh\")\n",
    "#Setting OpenIPSL library\n",
    "dymola.openModel(\"/home/manuelnvro/dev/Gitted/PythonTesting/OpenIPSL-master/OpenIPSL/package.mo\") \n",
    "print(\"Dymola Exciters Simulation Start...\\n\")"
   ]
  },
  {
   "cell_type": "code",
   "execution_count": 17,
   "metadata": {},
   "outputs": [],
   "source": [
    "#Creation of matrix with names, paths and variables\n",
    "exciters = { 'names' : [\"AC7B\",\"AC8B\", \"ESAC1A\", \"ESAC2A\", \"ESAC6A\", \"ESDC1A\", \"ESST1A\", \"ESST3A\", \"ESST4B\", \n",
    "                        \"EXAC1\", \"EXAC2\", \"EXAC3\", \"EXDC2\", \"EXPIC1\", \"EXST1\", \"EXST3\", \"IEEET1\", \"IEEET2\", \n",
    "                        \"IEEET3\", \"IEEET5\", \"REXSYS\", \"SCRX\", \"SEXS\", \"ST6B\"],\n",
    "            'path' : [\"OpenIPSL.Examples.Controls.PSSE.ES.AC7B\", \"OpenIPSL.Examples.Controls.PSSE.ES.AC8B\",\n",
    "                      \"OpenIPSL.Examples.Controls.PSSE.ES.ESAC1A\", \"OpenIPSL.Examples.Controls.PSSE.ES.ESAC2A\",\n",
    "                      \"OpenIPSL.Examples.Controls.PSSE.ES.ESST1A\", \"OpenIPSL.Examples.Controls.PSSE.ES.ESST3A\",\n",
    "                      \"OpenIPSL.Examples.Controls.PSSE.ES.ESST4B\", \"OpenIPSL.Examples.Controls.PSSE.ES.EXAC1\",\n",
    "                      \"OpenIPSL.Examples.Controls.PSSE.ES.EXAC2\", \"OpenIPSL.Examples.Controls.PSSE.ES.EXAC3\",\n",
    "                      \"OpenIPSL.Examples.Controls.PSSE.ES.EXDC2\", \"OpenIPSL.Examples.Controls.PSSE.ES.EXPIC1\",\n",
    "                      \"OpenIPSL.Examples.Controls.PSSE.ES.EXST1\", \"OpenIPSL.Examples.Controls.PSSE.ES.EXST3\",\n",
    "                      \"OpenIPSL.Examples.Controls.PSSE.ES.IEEET1\", \"OpenIPSL.Examples.Controls.PSSE.ES.IEEET2\",\n",
    "                      \"OpenIPSL.Examples.Controls.PSSE.ES.IEEET3\", \"OpenIPSL.Examples.Controls.PSSE.ES.IEEET5\",\n",
    "                      \"OpenIPSL.Examples.Controls.PSSE.ES.REXSYS\", \"OpenIPSL.Examples.Controls.PSSE.ES.SCRX\",\n",
    "                      \"OpenIPSL.Examples.Controls.PSSE.ES.SEXS\", \"OpenIPSL.Examples.Controls.PSSE.ES.ST6B\"],\n",
    "            'delta' : ['gENROU.delta', 'gENSAL.delta', 'gENCLS.delta', 'gENROE.delta', 'gENSAE.delta', 'cSVGN1.delta'],\n",
    "           'pelec' : ['gENROU.PELEC', 'gENSAL.PELEC', 'gENCLS.PELEC', 'gENROE.PELEC', 'gENSAE.PELEC', 'cSVGN1.PELEC'],\n",
    "           'speed' : ['gENROU.SPEED', 'gENSAL.SPEED', 'gENCLS.SPEED', 'gENROE.SPEED', 'gENSAE.SPEED', 'cSVGN1.SPEED']}\n"
   ]
  },
  {
   "cell_type": "code",
   "execution_count": null,
   "metadata": {},
   "outputs": [
    {
     "name": "stdout",
     "output_type": "stream",
     "text": [
      "AC7B Simulation Start...\n",
      "OpenIPSL.Examples.Controls.PSSE.ES.AC7B\n",
      "Simulation failed or model was not found. Below is the translation log:\n",
      "\n",
      "Translation of <a href=\"Modelica://OpenIPSL.Examples.Controls.PSSE.ES.AC7B\">OpenIPSL.Examples.Controls.PSSE.ES.AC7B</a>:\n",
      "Did not find model OpenIPSL.Examples.Controls.PSSE.ES.AC7B\n",
      "Error: ERRORS have been issued.\n",
      "\n",
      "AC8B Simulation Start...\n",
      "OpenIPSL.Examples.Controls.PSSE.ES.AC8B\n",
      "Simulation failed or model was not found. Below is the translation log:\n",
      "\n",
      "Translation of <a href=\"Modelica://OpenIPSL.Examples.Controls.PSSE.ES.AC8B\">OpenIPSL.Examples.Controls.PSSE.ES.AC8B</a>:\n",
      "Did not find model OpenIPSL.Examples.Controls.PSSE.ES.AC8B\n",
      "Error: ERRORS have been issued.\n",
      "\n",
      "ESAC1A Simulation Start...\n",
      "OpenIPSL.Examples.Controls.PSSE.ES.ESAC1A\n",
      "ESAC1A Simulation OK...\n",
      ".csv Writing Start...\n",
      "ESAC2A Simulation Start...\n",
      "OpenIPSL.Examples.Controls.PSSE.ES.ESAC2A\n",
      "ESAC2A Simulation OK...\n",
      ".csv Writing Start...\n",
      "ESAC6A Simulation Start...\n",
      "OpenIPSL.Examples.Controls.PSSE.ES.ESST1A\n",
      "ESAC6A Simulation OK...\n",
      ".csv Writing Start...\n",
      "ESDC1A Simulation Start...\n",
      "OpenIPSL.Examples.Controls.PSSE.ES.ESST3A\n",
      "Simulation failed or model was not found. Below is the translation log:\n",
      "\n",
      "Translation of <a href=\"Modelica://OpenIPSL.Examples.Controls.PSSE.ES.ESST3A\">OpenIPSL.Examples.Controls.PSSE.ES.ESST3A</a>:\n",
      "Did not find model OpenIPSL.Examples.Controls.PSSE.ES.ESST3A\n",
      "Error: ERRORS have been issued.\n",
      "\n",
      "ESST1A Simulation Start...\n",
      "OpenIPSL.Examples.Controls.PSSE.ES.ESST4B\n",
      "ESST1A Simulation OK...\n",
      ".csv Writing Start...\n",
      "ESST3A Simulation Start...\n",
      "OpenIPSL.Examples.Controls.PSSE.ES.EXAC1\n",
      "ESST3A Simulation OK...\n",
      ".csv Writing Start...\n",
      "ESST4B Simulation Start...\n",
      "OpenIPSL.Examples.Controls.PSSE.ES.EXAC2\n",
      "ESST4B Simulation OK...\n",
      ".csv Writing Start...\n",
      "EXAC1 Simulation Start...\n",
      "OpenIPSL.Examples.Controls.PSSE.ES.EXAC3\n",
      "Simulation failed or model was not found. Below is the translation log:\n",
      "\n",
      "Translation of <a href=\"Modelica://OpenIPSL.Examples.Controls.PSSE.ES.EXAC3\">OpenIPSL.Examples.Controls.PSSE.ES.EXAC3</a>:\n",
      "Did not find model OpenIPSL.Examples.Controls.PSSE.ES.EXAC3\n",
      "Error: ERRORS have been issued.\n",
      "\n",
      "EXAC2 Simulation Start...\n",
      "OpenIPSL.Examples.Controls.PSSE.ES.EXDC2\n",
      "Simulation failed or model was not found. Below is the translation log:\n",
      "\n",
      "Translation of <a href=\"Modelica://OpenIPSL.Examples.Controls.PSSE.ES.EXDC2\">OpenIPSL.Examples.Controls.PSSE.ES.EXDC2</a>:\n",
      "Did not find model OpenIPSL.Examples.Controls.PSSE.ES.EXDC2\n",
      "Error: ERRORS have been issued.\n",
      "\n",
      "EXAC3 Simulation Start...\n",
      "OpenIPSL.Examples.Controls.PSSE.ES.EXPIC1\n",
      "Simulation failed or model was not found. Below is the translation log:\n",
      "\n",
      "Translation of <a href=\"Modelica://OpenIPSL.Examples.Controls.PSSE.ES.EXPIC1\">OpenIPSL.Examples.Controls.PSSE.ES.EXPIC1</a>:\n",
      "Did not find model OpenIPSL.Examples.Controls.PSSE.ES.EXPIC1\n",
      "Error: ERRORS have been issued.\n",
      "\n",
      "EXDC2 Simulation Start...\n",
      "OpenIPSL.Examples.Controls.PSSE.ES.EXST1\n",
      "EXDC2 Simulation OK...\n",
      ".csv Writing Start...\n",
      "EXPIC1 Simulation Start...\n",
      "OpenIPSL.Examples.Controls.PSSE.ES.EXST3\n",
      "Simulation failed or model was not found. Below is the translation log:\n",
      "\n",
      "Translation of <a href=\"Modelica://OpenIPSL.Examples.Controls.PSSE.ES.EXST3\">OpenIPSL.Examples.Controls.PSSE.ES.EXST3</a>:\n",
      "Did not find model OpenIPSL.Examples.Controls.PSSE.ES.EXST3\n",
      "Error: ERRORS have been issued.\n",
      "\n",
      "EXST1 Simulation Start...\n",
      "OpenIPSL.Examples.Controls.PSSE.ES.IEEET1\n",
      "EXST1 Simulation OK...\n",
      ".csv Writing Start...\n",
      "EXST3 Simulation Start...\n",
      "OpenIPSL.Examples.Controls.PSSE.ES.IEEET2\n"
     ]
    }
   ],
   "source": [
    "#For loop that will iterate between machines, simulate, and create the .csv file\n",
    "for exciterNumber, exciterName in enumerate(exciters['names']):\n",
    "    try:\n",
    "        print(f\"{exciterName} Simulation Start...\")\n",
    "        dymola.cd(\"/home/manuelnvro/dev/Gitted/PythonTesting/WorkingDir/Dymola/Exciters/\" + exciterName)\n",
    "        resultPath = f\"/home/manuelnvro/dev/Gitted/PythonTesting/WorkingDir/Dymola/Exciters/{exciterName}/\" + exciterName \n",
    "        print(exciters['path'][exciterNumber])\n",
    "        \n",
    "        result = dymola.simulateModel(exciters['path'][exciterNumber], \n",
    "                                stopTime=10.0,\n",
    "                                numberOfIntervals = 5000,\n",
    "                                resultFile = resultPath)\n",
    "        if not result:\n",
    "            print(\"Simulation failed or model was not found. Below is the translation log:\\n\")\n",
    "            log = dymola.getLastErrorLog()\n",
    "            print(log)\n",
    "        else:\n",
    "            print(f\"{exciterName} Simulation OK...\")\n",
    "            print(\".csv Writing Start...\")       \n",
    "    except DymolaException as ex:\n",
    "        print(\"Error: \" + str(ex))"
   ]
  },
  {
   "cell_type": "code",
   "execution_count": null,
   "metadata": {},
   "outputs": [],
   "source": []
  }
 ],
 "metadata": {
  "kernelspec": {
   "display_name": "Python 3",
   "language": "python",
   "name": "python3"
  },
  "language_info": {
   "codemirror_mode": {
    "name": "ipython",
    "version": 3
   },
   "file_extension": ".py",
   "mimetype": "text/x-python",
   "name": "python",
   "nbconvert_exporter": "python",
   "pygments_lexer": "ipython3",
   "version": "3.7.4"
  }
 },
 "nbformat": 4,
 "nbformat_minor": 2
}
