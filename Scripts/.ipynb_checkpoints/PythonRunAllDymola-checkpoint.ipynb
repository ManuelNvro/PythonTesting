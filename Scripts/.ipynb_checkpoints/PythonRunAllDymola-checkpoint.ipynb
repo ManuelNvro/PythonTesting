{
 "cells": [
  {
   "cell_type": "code",
   "execution_count": 14,
   "metadata": {},
   "outputs": [],
   "source": [
    "import platform\n",
    "from dymola.dymola_interface import DymolaInterface\n",
    "from dymola.dymola_exception import DymolaException\n",
    "from modelicares import SimRes\n",
    "import pandas as pd\n",
    "import numpy as np\n",
    "import os\n",
    "import shutil\n",
    "from subprocess import Popen"
   ]
  },
  {
   "cell_type": "code",
   "execution_count": null,
   "metadata": {},
   "outputs": [],
   "source": [
    "#This is intended to be used in the manuelnvro Dell using Dymola 2020"
   ]
  },
  {
   "cell_type": "code",
   "execution_count": 15,
   "metadata": {},
   "outputs": [
    {
     "name": "stdout",
     "output_type": "stream",
     "text": [
      "Exciters Testing ----------------------------------------\n",
      "Exciters Testing OK...\n"
     ]
    }
   ],
   "source": [
    "#Run Exciters\n",
    "print('Exciters Testing ----------------------------------------')\n",
    "try:\n",
    "    os.chdir(f\"/home/manuelnvro/dev/Gitted/PythonTesting/Scripts\")\n",
    "    os.system('PythonExcitersDymola.py')\n",
    "    print('Exciters Testing OK...')\n",
    "except:\n",
    "    print('Error in Exciters Testing...')\n"
   ]
  }
 ],
 "metadata": {
  "kernelspec": {
   "display_name": "Python 3",
   "language": "python",
   "name": "python3"
  },
  "language_info": {
   "codemirror_mode": {
    "name": "ipython",
    "version": 3
   },
   "file_extension": ".py",
   "mimetype": "text/x-python",
   "name": "python",
   "nbconvert_exporter": "python",
   "pygments_lexer": "ipython3",
   "version": "3.7.4"
  }
 },
 "nbformat": 4,
 "nbformat_minor": 2
}
