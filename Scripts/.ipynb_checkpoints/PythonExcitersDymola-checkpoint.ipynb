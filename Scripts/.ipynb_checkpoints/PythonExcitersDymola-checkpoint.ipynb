{
 "cells": [
  {
   "cell_type": "code",
   "execution_count": 45,
   "metadata": {},
   "outputs": [],
   "source": [
    "import platform\n",
    "from dymola.dymola_interface import DymolaInterface\n",
    "from dymola.dymola_exception import DymolaException\n",
    "from modelicares import SimRes\n",
    "import pandas as pd\n",
    "import numpy as np\n",
    "import os\n",
    "import shutil"
   ]
  },
  {
   "cell_type": "code",
   "execution_count": null,
   "metadata": {},
   "outputs": [],
   "source": [
    "#This is intended to be used in the manuelnvro Dell using Dymola 2020"
   ]
  },
  {
   "cell_type": "code",
   "execution_count": 46,
   "metadata": {},
   "outputs": [
    {
     "name": "stdout",
     "output_type": "stream",
     "text": [
      "Dymola Exciters Simulation Start...\n",
      "\n"
     ]
    }
   ],
   "source": [
    "#Setting Dymola Interface\n",
    "dymola = DymolaInterface(\"/opt/dymola-2020-x86_64/bin64/dymola.sh\")\n",
    "#Setting OpenIPSL library\n",
    "dymola.openModel(\"/home/manuelnvro/dev/Gitted/PythonTesting/OpenIPSL-master/OpenIPSL/package.mo\") \n",
    "print(\"Dymola Exciters Simulation Start...\\n\")"
   ]
  },
  {
   "cell_type": "code",
   "execution_count": 47,
   "metadata": {},
   "outputs": [],
   "source": [
    "#Creation of matrix with names, paths and variables\n",
    "exciters = { 'names' : [\"AC7B\",\"AC8B\", \"ESAC1A\", \"ESAC2A\", \"ESAC6A\", \"ESDC1A\", \"ESST1A\", \"ESST3A\", \"ESST4B\", \n",
    "                        \"EXAC1\", \"EXAC2\", \"EXAC3\", \"EXDC2\", \"EXPIC1\", \"EXST1\", \"EXST3\", \"IEEET1\", \"IEEET2\", \n",
    "                        \"IEEET3\", \"IEEET5\", \"REXSYS\", \"SCRX\", \"SEXS\", \"ST6B\"],\n",
    "            'path' : [\"OpenIPSL.Examples.Controls.PSSE.ES.AC7B\", \"OpenIPSL.Examples.Controls.PSSE.ES.AC8B\",\n",
    "                      \"OpenIPSL.Examples.Controls.PSSE.ES.ESAC1A\", \"OpenIPSL.Examples.Controls.PSSE.ES.ESAC2A\",\n",
    "                      \"OpenIPSL.Examples.Controls.PSSE.ES.ESAC6A\", \"OpenIPSL.Examples.Controls.PSSE.ES.ESDC1A\",\n",
    "                      \"OpenIPSL.Examples.Controls.PSSE.ES.ESST1A\", \"OpenIPSL.Examples.Controls.PSSE.ES.ESST3A\",\n",
    "                      \"OpenIPSL.Examples.Controls.PSSE.ES.ESST4B\", \"OpenIPSL.Examples.Controls.PSSE.ES.EXAC1\",\n",
    "                      \"OpenIPSL.Examples.Controls.PSSE.ES.EXAC2\", \"OpenIPSL.Examples.Controls.PSSE.ES.EXAC3\",\n",
    "                      \"OpenIPSL.Examples.Controls.PSSE.ES.EXDC2\", \"OpenIPSL.Examples.Controls.PSSE.ES.EXPIC1\",\n",
    "                      \"OpenIPSL.Examples.Controls.PSSE.ES.EXST1\", \"OpenIPSL.Examples.Controls.PSSE.ES.EXST3\",\n",
    "                      \"OpenIPSL.Examples.Controls.PSSE.ES.IEEET1\", \"OpenIPSL.Examples.Controls.PSSE.ES.IEEET2\",\n",
    "                      \"OpenIPSL.Examples.Controls.PSSE.ES.IEEET3\", \"OpenIPSL.Examples.Controls.PSSE.ES.IEEET5\",\n",
    "                      \"OpenIPSL.Examples.Controls.PSSE.ES.REXSYS\", \"OpenIPSL.Examples.Controls.PSSE.ES.SCRX\",\n",
    "                      \"OpenIPSL.Examples.Controls.PSSE.ES.SEXS\", \"OpenIPSL.Examples.Controls.PSSE.ES.ST6B\"],\n",
    "            'delta' : ['gENROU.delta', 'gENROE.delta' ],\n",
    "           'pelec' : ['gENROU.PELEC', 'gENROE.PELEC'],\n",
    "           'speed' : ['gENROU.SPEED', 'gENROE.SPEED'],\n",
    "           'efd': [\"aC7B.EFD\",\"aC8B.EFD\", \"eSAC1A.EFD\", \"eSAC2A.EFD\", \"eSAC6A.EFD\", \"eSDC1A.EFD\", \"eSST1A.EFD\", \"eSST3A.EFD\", \"eSST4B.EFD\", \n",
    "                        \"eXAC1.EFD\", \"eXAC2.EFD\", \"eXAC3.EFD\", \"eXDC2.EFD\", \"eXPIC1.EFD\", \"eXST1.EFD\", \"eXST3.EFD\", \"iEEET1.EFD\", \"iEEET2.EFD\", \n",
    "                        \"iEEET3.EFD\", \"iEEET5.EFD\", \"rEXSYS.EFD\", \"sCRX.EFD\", \"sEXS.EFD\", \"sT6B.EFD\"]}\n"
   ]
  },
  {
   "cell_type": "code",
   "execution_count": 48,
   "metadata": {},
   "outputs": [],
   "source": [
    "#Delete old results\n",
    "shutil.rmtree('/home/manuelnvro/dev/Gitted/PythonTesting/WorkingDir/Dymola/Exciters/')\n",
    "#Create Exciters folder\n",
    "os.makedirs('/home/manuelnvro/dev/Gitted/PythonTesting/WorkingDir/Dymola/Exciters/')\n",
    "os.chdir(f\"/home/manuelnvro/dev/Gitted/PythonTesting/WorkingDir/Dymola/Exciters/\")\n",
    "for exciterNumber, exciterName in enumerate(exciters['names']):\n",
    "    os.makedirs(f'{exciterName}')"
   ]
  },
  {
   "cell_type": "code",
   "execution_count": null,
   "metadata": {},
   "outputs": [
    {
     "name": "stdout",
     "output_type": "stream",
     "text": [
      "AC7B Simulation Start...\n",
      "Simulation failed or model was not found. Below is the translation log:\n",
      "\n",
      "Translation of <a href=\"Modelica://OpenIPSL.Examples.Controls.PSSE.ES.AC7B\">OpenIPSL.Examples.Controls.PSSE.ES.AC7B</a>:\n",
      "Did not find model OpenIPSL.Examples.Controls.PSSE.ES.AC7B\n",
      "Error: ERRORS have been issued.\n",
      "\n",
      "Delete Extra Files...\n",
      "\n",
      "AC8B Simulation Start...\n",
      "Simulation failed or model was not found. Below is the translation log:\n",
      "\n",
      "Translation of <a href=\"Modelica://OpenIPSL.Examples.Controls.PSSE.ES.AC8B\">OpenIPSL.Examples.Controls.PSSE.ES.AC8B</a>:\n",
      "Did not find model OpenIPSL.Examples.Controls.PSSE.ES.AC8B\n",
      "Error: ERRORS have been issued.\n",
      "\n",
      "Delete Extra Files...\n",
      "\n",
      "ESAC1A Simulation Start...\n"
     ]
    }
   ],
   "source": [
    "#For loop that will iterate between exciters, simulate, and create the .csv file\n",
    "for exciterNumber, exciterName in enumerate(exciters['names']):\n",
    "    try:\n",
    "        print(f\"{exciterName} Simulation Start...\")\n",
    "        dymola.cd(\"/home/manuelnvro/dev/Gitted/PythonTesting/WorkingDir/Dymola/Exciters/\" + exciterName)\n",
    "        resultPath = f\"/home/manuelnvro/dev/Gitted/PythonTesting/WorkingDir/Dymola/Exciters/{exciterName}/\" + exciterName \n",
    "        result = dymola.simulateModel(exciters['path'][exciterNumber], \n",
    "                                  stopTime=10.0,\n",
    "                                  numberOfIntervals = 5000,\n",
    "                                  resultFile = resultPath)\n",
    "        if not result:\n",
    "            print(\"Simulation failed or model was not found. Below is the translation log:\\n\")\n",
    "            log = dymola.getLastErrorLog()\n",
    "            print(log)\n",
    "            try:\n",
    "                os.chdir(f\"/home/manuelnvro/dev/Gitted/PythonTesting/WorkingDir/Dymola/Exciters/{exciterName}/\")\n",
    "                os.remove(\"dsin.txt\")\n",
    "            except:\n",
    "                pass\n",
    "        else:\n",
    "            print(f\"{exciterName} Simulation OK...\")\n",
    "            print(\".csv Writing Start...\") \n",
    "            sim = SimRes(f\"/home/manuelnvro/dev/Gitted/PythonTesting/WorkingDir/Dymola/Exciters/{exciterName}/{exciterName}.mat\")\n",
    "            try:\n",
    "                print('Verifying if it is a GENROU model...')\n",
    "                #Selecting Variables\n",
    "                variables = ['Time', exciters['delta'][0], exciters['pelec'][0], exciters['speed'][0], exciters['efd'][exciterNumber], 'GEN1.V', 'LOAD.V', 'GEN2.V', 'FAULT.V' ]\n",
    "                df_variables = pd.DataFrame([], columns = variables)\n",
    "                for var in variables:\n",
    "                    df_variables.drop(var, axis = 1, inplace = True)\n",
    "                    df_variables[var] = np.array(sim[var].values())\n",
    "                print(f\"{exciterName} Variables OK...\")\n",
    "                #Changing current directory\n",
    "                os.chdir(f\"/home/manuelnvro/dev/Gitted/PythonTesting/WorkingDir/Dymola/Exciters/{exciterName}/\")\n",
    "                df_variables.to_csv(f'{exciterName}.csv', index = False)          \n",
    "                print(f\"{exciterName} Write OK...\")\n",
    "            except:\n",
    "                print('Not a GENROU model...')\n",
    "                print('Verifying if it is a GENROE model...')\n",
    "                #Selecting Variables\n",
    "                variables = ['Time', exciters['delta'][1], exciters['pelec'][1], exciters['speed'][1],exciters['efd'][exciterNumber] , 'GEN1.V', 'LOAD.V', 'GEN2.V', 'FAULT.V' ]\n",
    "                df_variables = pd.DataFrame([], columns = variables)\n",
    "                for var in variables:\n",
    "                    df_variables.drop(var, axis = 1, inplace = True)\n",
    "                    df_variables[var] = np.array(sim[var].values())\n",
    "                print(f\"{exciterName} Variables OK...\")\n",
    "                #Changing current directory\n",
    "                os.chdir(f\"/home/manuelnvro/dev/Gitted/PythonTesting/WorkingDir/Dymola/Exciters/{exciterName}/\")\n",
    "                df_variables.to_csv(f'{exciterName}.csv', index = False)          \n",
    "                print(f\"{exciterName} Write OK...\")\n",
    "        try:\n",
    "            print(\"Delete Extra Files...\\n\")\n",
    "            os.remove(\"dsin.txt\")\n",
    "            os.remove(\"dsfinal.txt\")\n",
    "            os.remove(\"dslog.txt\")\n",
    "            os.remove(\"dsmodel.c\")\n",
    "            os.remove(\"dymosim\")\n",
    "            os.remove(f\"{exciterName}.mat\")\n",
    "            print(\"Delete OK...\\n\")\n",
    "        except:\n",
    "            pass\n",
    "    except DymolaException as ex:\n",
    "        print(\"Error: \" + str(ex))\n",
    "print('Exciter Examples Simulation OK...')"
   ]
  },
  {
   "cell_type": "code",
   "execution_count": null,
   "metadata": {},
   "outputs": [],
   "source": []
  }
 ],
 "metadata": {
  "kernelspec": {
   "display_name": "Python 3",
   "language": "python",
   "name": "python3"
  },
  "language_info": {
   "codemirror_mode": {
    "name": "ipython",
    "version": 3
   },
   "file_extension": ".py",
   "mimetype": "text/x-python",
   "name": "python",
   "nbconvert_exporter": "python",
   "pygments_lexer": "ipython3",
   "version": "3.7.4"
  }
 },
 "nbformat": 4,
 "nbformat_minor": 2
}
