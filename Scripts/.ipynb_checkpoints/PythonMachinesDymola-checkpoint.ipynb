{
 "cells": [
  {
   "cell_type": "code",
   "execution_count": 197,
   "metadata": {},
   "outputs": [],
   "source": [
    "import platform\n",
    "from dymola.dymola_interface import DymolaInterface\n",
    "from dymola.dymola_exception import DymolaException\n",
    "from modelicares import SimRes\n",
    "import pandas as pd\n",
    "import numpy as np\n",
    "import os"
   ]
  },
  {
   "cell_type": "code",
   "execution_count": 198,
   "metadata": {},
   "outputs": [],
   "source": [
    "#This is intended to be used in the manuelnvro Dell using Dymola 2020"
   ]
  },
  {
   "cell_type": "code",
   "execution_count": 199,
   "metadata": {},
   "outputs": [
    {
     "name": "stdout",
     "output_type": "stream",
     "text": [
      "Dymola Machines Simulation Start...\n",
      "\n"
     ]
    }
   ],
   "source": [
    "#Setting Dymola Interface\n",
    "dymola = DymolaInterface(\"/opt/dymola-2020-x86_64/bin64/dymola.sh\")\n",
    "#Setting OpenIPSL library\n",
    "dymola.openModel(\"/home/manuelnvro/dev/Gitted/PythonTesting/OpenIPSL-master/OpenIPSL/package.mo\") \n",
    "print(\"Dymola Machines Simulation Start...\\n\")"
   ]
  },
  {
   "cell_type": "code",
   "execution_count": 200,
   "metadata": {},
   "outputs": [],
   "source": [
    "#Creation of matrix with names, paths and variables\n",
    "machines = { 'names' : [\"GENROU\",\"GENSAL\", \"GENCLS\", \"GENROE\", \"GENSAE\", \"CSVGN1\"],\n",
    "            'path' : [\"OpenIPSL.Examples.Machines.PSSE.GENROU\", \"OpenIPSL.Examples.Machines.PSSE.GENSAL\", \"OpenIPSL.Examples.Machines.PSSE.GENCLS\", \"OpenIPSL.Examples.Machines.PSSE.GENROE\", \"OpenIPSL.Examples.Machines.PSSE.GENSAE\", \"OpenIPSL.Examples.Machines.PSSE.CSVGN1\"],\n",
    "            'delta' : ['gENROU.delta', 'gENSAL.delta', 'gENCLS.delta', 'gENROE.delta' 'gENSAE.delta', 'cSVGN1.delta'],\n",
    "           'pelec' : ['gENROU.PELEC', 'gENSAL.PELEC', 'gENCLS.PELEC', 'gENROE.PELEC' 'gENSAE.PELEC', 'cSVGN1.PELEC'],\n",
    "           'speed' : ['gENROU.SPEED', 'gENSAL.SPEED', 'gENCLS.SPEED', 'gENROE.SPEED' 'gENSAE.SPEED', 'cSVGN1.SPEED']}\n"
   ]
  },
  {
   "cell_type": "code",
   "execution_count": 201,
   "metadata": {},
   "outputs": [
    {
     "name": "stdout",
     "output_type": "stream",
     "text": [
      "GENROU Simulation Start...\n",
      "GENROU Simulation OK...\n",
      "\n",
      ".csv Writing Start...\n",
      "\n",
      "['Time', 'gENROU.delta', 'gENROU.PELEC', 'gENROU.SPEED', 'GEN1.V', 'LOAD.V', 'GEN2.V', 'FAULT.V']\n",
      "GENROU Variables OK...\n",
      "GENROU Write OK...\n",
      "\n",
      "GENSAL Simulation Start...\n",
      "GENSAL Simulation OK...\n",
      "\n",
      ".csv Writing Start...\n",
      "\n",
      "['Time', 'gENSAL.delta', 'gENSAL.PELEC', 'gENSAL.SPEED', 'GEN1.V', 'LOAD.V', 'GEN2.V', 'FAULT.V']\n",
      "GENSAL Variables OK...\n",
      "GENSAL Write OK...\n",
      "\n",
      "GENCLS Simulation Start...\n",
      "Simulation failed or model was not found. Below is the translation log:\n",
      "\n",
      "Translation of <a href=\"Modelica://OpenIPSL.Examples.Machines.PSSE.GENCLS\">OpenIPSL.Examples.Machines.PSSE.GENCLS</a>:\n",
      "Did not find model OpenIPSL.Examples.Machines.PSSE.GENCLS\n",
      "Error: ERRORS have been issued.\n",
      "\n",
      "GENROE Simulation Start...\n",
      "GENROE Simulation OK...\n",
      "\n",
      ".csv Writing Start...\n",
      "\n",
      "['Time', 'gENROE.deltagENSAE.delta', 'gENROE.PELECgENSAE.PELEC', 'gENROE.SPEEDgENSAE.SPEED', 'GEN1.V', 'LOAD.V', 'GEN2.V', 'FAULT.V']\n"
     ]
    },
    {
     "ename": "LookupError",
     "evalue": "gENROE.deltagENSAE.delta is not a valid variable name.\n\nDid you mean one of these?\n       gENROE.der(delta)\n       gENROE.delta",
     "output_type": "error",
     "traceback": [
      "\u001b[0;31m---------------------------------------------------------------------------\u001b[0m",
      "\u001b[0;31mKeyError\u001b[0m                                  Traceback (most recent call last)",
      "\u001b[0;32m~/anaconda3/lib/python3.7/site-packages/modelicares/simres.py\u001b[0m in \u001b[0;36m__getitem__\u001b[0;34m(self, key)\u001b[0m\n\u001b[1;32m    598\u001b[0m         \u001b[0;32mtry\u001b[0m\u001b[0;34m:\u001b[0m\u001b[0;34m\u001b[0m\u001b[0;34m\u001b[0m\u001b[0m\n\u001b[0;32m--> 599\u001b[0;31m             \u001b[0;32mreturn\u001b[0m \u001b[0mdict\u001b[0m\u001b[0;34m.\u001b[0m\u001b[0m__getitem__\u001b[0m\u001b[0;34m(\u001b[0m\u001b[0mself\u001b[0m\u001b[0;34m,\u001b[0m \u001b[0mkey\u001b[0m\u001b[0;34m)\u001b[0m\u001b[0;34m\u001b[0m\u001b[0;34m\u001b[0m\u001b[0m\n\u001b[0m\u001b[1;32m    600\u001b[0m         \u001b[0;32mexcept\u001b[0m \u001b[0mKeyError\u001b[0m\u001b[0;34m:\u001b[0m\u001b[0;34m\u001b[0m\u001b[0;34m\u001b[0m\u001b[0m\n",
      "\u001b[0;31mKeyError\u001b[0m: 'gENROE.deltagENSAE.delta'",
      "\nDuring handling of the above exception, another exception occurred:\n",
      "\u001b[0;31mLookupError\u001b[0m                               Traceback (most recent call last)",
      "\u001b[0;32m<ipython-input-201-5cb92ffba3e1>\u001b[0m in \u001b[0;36m<module>\u001b[0;34m\u001b[0m\n\u001b[1;32m     25\u001b[0m             \u001b[0;32mfor\u001b[0m \u001b[0mvar\u001b[0m \u001b[0;32min\u001b[0m \u001b[0mvariables\u001b[0m\u001b[0;34m:\u001b[0m\u001b[0;34m\u001b[0m\u001b[0;34m\u001b[0m\u001b[0m\n\u001b[1;32m     26\u001b[0m                 \u001b[0mdf_variables\u001b[0m\u001b[0;34m.\u001b[0m\u001b[0mdrop\u001b[0m\u001b[0;34m(\u001b[0m\u001b[0mvar\u001b[0m\u001b[0;34m,\u001b[0m \u001b[0maxis\u001b[0m \u001b[0;34m=\u001b[0m \u001b[0;36m1\u001b[0m\u001b[0;34m,\u001b[0m \u001b[0minplace\u001b[0m \u001b[0;34m=\u001b[0m \u001b[0;32mTrue\u001b[0m\u001b[0;34m)\u001b[0m\u001b[0;34m\u001b[0m\u001b[0;34m\u001b[0m\u001b[0m\n\u001b[0;32m---> 27\u001b[0;31m                 \u001b[0mdf_variables\u001b[0m\u001b[0;34m[\u001b[0m\u001b[0mvar\u001b[0m\u001b[0;34m]\u001b[0m \u001b[0;34m=\u001b[0m \u001b[0mnp\u001b[0m\u001b[0;34m.\u001b[0m\u001b[0marray\u001b[0m\u001b[0;34m(\u001b[0m\u001b[0msim\u001b[0m\u001b[0;34m[\u001b[0m\u001b[0mvar\u001b[0m\u001b[0;34m]\u001b[0m\u001b[0;34m.\u001b[0m\u001b[0mvalues\u001b[0m\u001b[0;34m(\u001b[0m\u001b[0;34m)\u001b[0m\u001b[0;34m)\u001b[0m\u001b[0;34m\u001b[0m\u001b[0;34m\u001b[0m\u001b[0m\n\u001b[0m\u001b[1;32m     28\u001b[0m             \u001b[0mprint\u001b[0m\u001b[0;34m(\u001b[0m\u001b[0;34mf\"{machineName} Variables OK...\"\u001b[0m\u001b[0;34m)\u001b[0m\u001b[0;34m\u001b[0m\u001b[0;34m\u001b[0m\u001b[0m\n\u001b[1;32m     29\u001b[0m             \u001b[0mdf_variables\u001b[0m\u001b[0;34m.\u001b[0m\u001b[0mto_csv\u001b[0m\u001b[0;34m(\u001b[0m\u001b[0;34mf'{machineName}.csv'\u001b[0m\u001b[0;34m,\u001b[0m \u001b[0mindex\u001b[0m \u001b[0;34m=\u001b[0m \u001b[0;32mFalse\u001b[0m\u001b[0;34m)\u001b[0m\u001b[0;34m\u001b[0m\u001b[0;34m\u001b[0m\u001b[0m\n",
      "\u001b[0;32m~/anaconda3/lib/python3.7/site-packages/modelicares/simres.py\u001b[0m in \u001b[0;36m__getitem__\u001b[0;34m(self, name)\u001b[0m\n\u001b[1;32m   1612\u001b[0m         \"\"\"\n\u001b[1;32m   1613\u001b[0m         \u001b[0;32mtry\u001b[0m\u001b[0;34m:\u001b[0m\u001b[0;34m\u001b[0m\u001b[0;34m\u001b[0m\u001b[0m\n\u001b[0;32m-> 1614\u001b[0;31m             \u001b[0;32mreturn\u001b[0m \u001b[0mself\u001b[0m\u001b[0;34m.\u001b[0m\u001b[0m_variables\u001b[0m\u001b[0;34m[\u001b[0m\u001b[0mname\u001b[0m\u001b[0;34m]\u001b[0m\u001b[0;34m\u001b[0m\u001b[0;34m\u001b[0m\u001b[0m\n\u001b[0m\u001b[1;32m   1615\u001b[0m         \u001b[0;32mexcept\u001b[0m \u001b[0mTypeError\u001b[0m\u001b[0;34m:\u001b[0m\u001b[0;34m\u001b[0m\u001b[0;34m\u001b[0m\u001b[0m\n\u001b[1;32m   1616\u001b[0m             \u001b[0;32mif\u001b[0m \u001b[0misinstance\u001b[0m\u001b[0;34m(\u001b[0m\u001b[0mname\u001b[0m\u001b[0;34m,\u001b[0m \u001b[0mlist\u001b[0m\u001b[0;34m)\u001b[0m\u001b[0;34m:\u001b[0m\u001b[0;34m\u001b[0m\u001b[0;34m\u001b[0m\u001b[0m\n",
      "\u001b[0;32m~/anaconda3/lib/python3.7/site-packages/modelicares/simres.py\u001b[0m in \u001b[0;36m__getitem__\u001b[0;34m(self, key)\u001b[0m\n\u001b[1;32m    604\u001b[0m                 msg += \"\\n       \".join([\"\\n\\nDid you mean one of these?\"]\n\u001b[1;32m    605\u001b[0m                                         + close_matches)\n\u001b[0;32m--> 606\u001b[0;31m             \u001b[0;32mraise\u001b[0m \u001b[0mLookupError\u001b[0m\u001b[0;34m(\u001b[0m\u001b[0mmsg\u001b[0m\u001b[0;34m)\u001b[0m\u001b[0;34m\u001b[0m\u001b[0;34m\u001b[0m\u001b[0m\n\u001b[0m\u001b[1;32m    607\u001b[0m \u001b[0;34m\u001b[0m\u001b[0m\n\u001b[1;32m    608\u001b[0m \u001b[0;32mclass\u001b[0m \u001b[0mVarList\u001b[0m\u001b[0;34m(\u001b[0m\u001b[0mlist\u001b[0m\u001b[0;34m)\u001b[0m\u001b[0;34m:\u001b[0m\u001b[0;34m\u001b[0m\u001b[0;34m\u001b[0m\u001b[0m\n",
      "\u001b[0;31mLookupError\u001b[0m: gENROE.deltagENSAE.delta is not a valid variable name.\n\nDid you mean one of these?\n       gENROE.der(delta)\n       gENROE.delta"
     ]
    }
   ],
   "source": [
    "#For loop that will iterate between machines, simulate, and create the .csv file\n",
    "for machineNumber, machineName in enumerate(machines['names']):\n",
    "    try:\n",
    "        print(f\"{machineName} Simulation Start...\")\n",
    "        dymola.cd(\"/home/manuelnvro/dev/Gitted/PythonTesting/WorkingDir/Dymola/Machines/\" + machineName)\n",
    "        resultPath = f\"/home/manuelnvro/dev/Gitted/PythonTesting/WorkingDir/Dymola/Machines/{machineName}/\" + machineName\n",
    "        result = dymola.simulateModel(machines['path'][machineNumber], \n",
    "                                stopTime=10.0,\n",
    "                                numberOfIntervals = 5000,\n",
    "                                resultFile = resultPath)\n",
    "        if not result:\n",
    "            print(\"Simulation failed or model was not found. Below is the translation log:\\n\")\n",
    "            log = dymola.getLastErrorLog()\n",
    "            print(log)\n",
    "            exit(1)\n",
    "        else:\n",
    "            print(f\"{machineName} Simulation OK...\")\n",
    "            print(\".csv Writing Start...\")\n",
    "            #Selecting Result File\n",
    "            sim = SimRes(f\"/home/manuelnvro/dev/Gitted/PythonTesting/WorkingDir/Dymola/Machines/{machineName}/{machineName}.mat\")\n",
    "            #Selecting Variables\n",
    "            variables = ['Time', machines['delta'][machineNumber], machines['pelec'][machineNumber], machines['speed'][machineNumber], 'GEN1.V', 'LOAD.V', 'GEN2.V', 'FAULT.V' ]\n",
    "            df_variables = pd.DataFrame([], columns = variables)\n",
    "            for var in variables:\n",
    "                df_variables.drop(var, axis = 1, inplace = True)\n",
    "                df_variables[var] = np.array(sim[var].values())\n",
    "            print(f\"{machineName} Variables OK...\")\n",
    "            df_variables.to_csv(f'{machineName}.csv', index = False)          \n",
    "            print(f\"{machineName} Write OK...\\n\")        \n",
    "    except DymolaException as ex:\n",
    "        print(\"Error: \" + str(ex))"
   ]
  },
  {
   "cell_type": "code",
   "execution_count": 128,
   "metadata": {},
   "outputs": [
    {
     "name": "stdout",
     "output_type": "stream",
     "text": [
      "\"OpenIPSL.Examples.Machines.PSSE.GENROU\"\n",
      "\"OpenIPSL.Examples.Machines.PSSE.GENROU\"  Simulation OK\n",
      "Vars OK\n",
      "Write OK\n"
     ]
    }
   ],
   "source": [
    "try:\n",
    "    #Set WorkingDir\n",
    "    dymola.cd(\"/home/manuelnvro/dev/Gitted/PythonTesting/WorkingDir/Dymola\")\n",
    "    resultPath = \"/home/manuelnvro/dev/Gitted/PythonTesting/WorkingDir/Dymola/GENROU\"\n",
    "    machines = np.array([[\"GENROU\",\"GENSAL\", \"GENCLS\", \"GENROE\", \"GENSAE\", \"CSVGN1\"],\n",
    "                     ['\"OpenIPSL.Examples.Machines.PSSE.GENROU\"', \"OpenIPSL.Examples.Machines.PSSE.GENSAL\", \"OpenIPSL.Examples.Machines.PSSE.GENCLS\", \"OpenIPSL.Examples.Machines.PSSE.GENROE\", \"OpenIPSL.Examples.Machines.PSSE.GENSAE\", \"OpenIPSL.Examples.Machines.PSSE.CSVGN1\"]])\n",
    "    print(machines[1][0])\n",
    "    #Dymola Simulation\n",
    "    result = dymola.simulateModel(machines[1][0], \n",
    "                                  numberOfIntervals = 5000,\n",
    "                                 resultFile = resultPath)\n",
    "    if not result:\n",
    "        print(\"Simulation failed. Below is the translation log.\")\n",
    "        log = dymola.getLastErrorLog()\n",
    "        print(log)\n",
    "        exit(1)       \n",
    "    print(machines[1][0], \" Simulation OK\")\n",
    "    #Close Dymola\n",
    "    dymola.close()\n",
    "    #Selecting result file\n",
    "    sim = SimRes(\"/home/manuelnvro/dev/Gitted/PythonTesting/WorkingDir/Dymola/GENROU.mat\")\n",
    "    #Selecting Variables\n",
    "    variables = ['Time', 'gENROU.delta','gENROU.PELEC','gENROU.SPEED', 'GEN1.V', 'LOAD.V', 'GEN2.V', 'FAULT.V' ]\n",
    "    df_variables = pd.DataFrame([], columns = variables)\n",
    "    for var in variables:\n",
    "        df_variables.drop(var, axis = 1, inplace = True)\n",
    "        df_variables[var] = np.array(sim[var].values())\n",
    "    print(\"Vars OK\")\n",
    "    #Changing current directory\n",
    "    os.chdir(\"/home/manuelnvro/dev/Gitted/PythonTesting/ResultData/Machines/\")\n",
    "    #Creating .csv house\n",
    "    df_variables.to_csv(f'{machines[0][0]}.csv', index = False)\n",
    "    print(\"Write OK\")\n",
    "except DymolaException as ex:\n",
    "    print((\"Error: \" + str(ex)))"
   ]
  },
  {
   "cell_type": "code",
   "execution_count": 100,
   "metadata": {},
   "outputs": [
    {
     "name": "stdout",
     "output_type": "stream",
     "text": [
      "[['GENROU' 'GENSAL' 'GENCLS' 'GENROE' 'GENSAE' 'CSVGN1']\n",
      " ['\"OpenIPSL.Examples.Machines.PSSE.GENROU\"'\n",
      "  'OpenIPSL.Examples.Machines.PSSE.GENSAL'\n",
      "  'OpenIPSL.Examples.Machines.PSSE.GENCLS'\n",
      "  'OpenIPSL.Examples.Machines.PSSE.GENROE'\n",
      "  'OpenIPSL.Examples.Machines.PSSE.GENSAE'\n",
      "  'OpenIPSL.Examples.Machines.PSSE.CSVGN1']]\n",
      "\"OpenIPSL.Examples.Machines.PSSE.GENROU\" Simulation OK\n",
      "Simulation OK\n"
     ]
    }
   ],
   "source": [
    "machines = np.array([[\"GENROU\",\"GENSAL\", \"GENCLS\", \"GENROE\", \"GENSAE\", \"CSVGN1\"],\n",
    "                     ['\"OpenIPSL.Examples.Machines.PSSE.GENROU\"', \"OpenIPSL.Examples.Machines.PSSE.GENSAL\", \"OpenIPSL.Examples.Machines.PSSE.GENCLS\", \"OpenIPSL.Examples.Machines.PSSE.GENROE\", \"OpenIPSL.Examples.Machines.PSSE.GENSAE\", \"OpenIPSL.Examples.Machines.PSSE.CSVGN1\"]])\n",
    "print(machines)\n",
    "print((machines[1][0]), \"Simulation OK\")\n",
    "print(\"Simulation OK\")"
   ]
  },
  {
   "cell_type": "code",
   "execution_count": null,
   "metadata": {},
   "outputs": [],
   "source": []
  }
 ],
 "metadata": {
  "kernelspec": {
   "display_name": "Python 3",
   "language": "python",
   "name": "python3"
  },
  "language_info": {
   "codemirror_mode": {
    "name": "ipython",
    "version": 3
   },
   "file_extension": ".py",
   "mimetype": "text/x-python",
   "name": "python",
   "nbconvert_exporter": "python",
   "pygments_lexer": "ipython3",
   "version": "3.7.4"
  }
 },
 "nbformat": 4,
 "nbformat_minor": 2
}
