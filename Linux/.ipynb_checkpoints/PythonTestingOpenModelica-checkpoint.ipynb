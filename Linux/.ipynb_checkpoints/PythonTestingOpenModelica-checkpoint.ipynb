{
 "cells": [
  {
   "cell_type": "code",
   "execution_count": 57,
   "metadata": {},
   "outputs": [
    {
     "name": "stderr",
     "output_type": "stream",
     "text": [
      "2019-11-05 17:27:27,674 - OMPython - INFO - OMC Server is up and running at file:////tmp/openmodelica.manuelnvro.port.d9191538b47a42008f2c1303ec651253 pid=18074\n"
     ]
    }
   ],
   "source": [
    "from OMPython import OMCSessionZMQ\n",
    "omc = OMCSessionZMQ()\n",
    "from modelicares import SimRes\n",
    "import pandas as pd\n",
    "import numpy as np"
   ]
  },
  {
   "cell_type": "code",
   "execution_count": 10,
   "metadata": {},
   "outputs": [
    {
     "data": {
      "text/plain": [
       "'OpenModelica 1.13.0'"
      ]
     },
     "execution_count": 10,
     "metadata": {},
     "output_type": "execute_result"
    }
   ],
   "source": [
    "omc.sendExpression(\"getVersion()\")"
   ]
  },
  {
   "cell_type": "code",
   "execution_count": 62,
   "metadata": {},
   "outputs": [
    {
     "data": {
      "text/plain": [
       "'/home/manuelnvro/dev/Gitted/PythonTesting/WorkingDir/OpenModelica'"
      ]
     },
     "execution_count": 62,
     "metadata": {},
     "output_type": "execute_result"
    }
   ],
   "source": [
    "omc.sendExpression(\"cd(\\\"/home/manuelnvro/dev/Gitted/PythonTesting/WorkingDir/OpenModelica/\\\")\") #Change WorkigDir"
   ]
  },
  {
   "cell_type": "code",
   "execution_count": 63,
   "metadata": {},
   "outputs": [
    {
     "data": {
      "text/plain": [
       "'/home/manuelnvro/dev/Gitted/PythonTesting/WorkingDir/OpenModelica'"
      ]
     },
     "execution_count": 63,
     "metadata": {},
     "output_type": "execute_result"
    }
   ],
   "source": [
    "omc.sendExpression(\"cd()\") #Check WorkingDir\n",
    "#omc.sendExpression(\"loadModel(Modelica)\")"
   ]
  },
  {
   "cell_type": "code",
   "execution_count": 64,
   "metadata": {},
   "outputs": [
    {
     "data": {
      "text/plain": [
       "True"
      ]
     },
     "execution_count": 64,
     "metadata": {},
     "output_type": "execute_result"
    }
   ],
   "source": [
    "omc.sendExpression(\"loadFile(\\\"/home/manuelnvro/dev/Gitted/OpenIPSL/OpenIPSL/package.mo\\\")\")"
   ]
  },
  {
   "cell_type": "code",
   "execution_count": 65,
   "metadata": {},
   "outputs": [
    {
     "data": {
      "text/plain": [
       "'class OpenIPSL \"Open-Instance Power System Library\"\\nend OpenIPSL;\\n'"
      ]
     },
     "execution_count": 65,
     "metadata": {},
     "output_type": "execute_result"
    }
   ],
   "source": [
    "omc.sendExpression(\"instantiateModel(OpenIPSL)\")"
   ]
  },
  {
   "cell_type": "code",
   "execution_count": 37,
   "metadata": {},
   "outputs": [
    {
     "data": {
      "text/plain": [
       "('Copyright', 'Examples', 'Electrical', 'NonElectrical', 'Interfaces')"
      ]
     },
     "execution_count": 37,
     "metadata": {},
     "output_type": "execute_result"
    }
   ],
   "source": [
    "omc.sendExpression(\"getClassNames(OpenIPSL)\")"
   ]
  },
  {
   "cell_type": "code",
   "execution_count": 27,
   "metadata": {},
   "outputs": [
    {
     "data": {
      "text/plain": [
       "False"
      ]
     },
     "execution_count": 27,
     "metadata": {},
     "output_type": "execute_result"
    }
   ],
   "source": [
    "#omc.sendExpression(\"isPartial(OpenIPSL)\")"
   ]
  },
  {
   "cell_type": "code",
   "execution_count": 28,
   "metadata": {},
   "outputs": [
    {
     "data": {
      "text/plain": [
       "False"
      ]
     },
     "execution_count": 28,
     "metadata": {},
     "output_type": "execute_result"
    }
   ],
   "source": [
    "#omc.sendExpression(\"isPackage(OpenIPSL)\")"
   ]
  },
  {
   "cell_type": "code",
   "execution_count": 29,
   "metadata": {},
   "outputs": [
    {
     "data": {
      "text/plain": [
       "False"
      ]
     },
     "execution_count": 29,
     "metadata": {},
     "output_type": "execute_result"
    }
   ],
   "source": [
    "#omc.sendExpression(\"isModel(OpenIPSL)\")"
   ]
  },
  {
   "cell_type": "code",
   "execution_count": 43,
   "metadata": {},
   "outputs": [
    {
     "ename": "NameError",
     "evalue": "name 'OpenIPSL' is not defined",
     "output_type": "error",
     "traceback": [
      "\u001b[0;31m---------------------------------------------------------------------------\u001b[0m",
      "\u001b[0;31mNameError\u001b[0m                                 Traceback (most recent call last)",
      "\u001b[0;32m<ipython-input-43-8d4ee7c018b6>\u001b[0m in \u001b[0;36m<module>\u001b[0;34m\u001b[0m\n\u001b[0;32m----> 1\u001b[0;31m \u001b[0mOpenIPSL\u001b[0m\u001b[0;34m.\u001b[0m\u001b[0msendExpression\u001b[0m\u001b[0;34m(\u001b[0m\u001b[0;34m\"checkModel(OpenIPSL.Examples.Controls.PSSE.ES.EXAC1)\"\u001b[0m\u001b[0;34m)\u001b[0m\u001b[0;34m\u001b[0m\u001b[0;34m\u001b[0m\u001b[0m\n\u001b[0m",
      "\u001b[0;31mNameError\u001b[0m: name 'OpenIPSL' is not defined"
     ]
    }
   ],
   "source": [
    "#OpenIPSL.sendExpression(\"checkModel(OpenIPSL.Examples.Controls.PSSE.ES.EXAC1)\")\n",
    "#resultfile=\"/home/manuelnvro/dev/Gitted/PythonTesting/WorkingDir/OpenModelica/EXAC1.mat\""
   ]
  },
  {
   "cell_type": "code",
   "execution_count": 74,
   "metadata": {},
   "outputs": [
    {
     "data": {
      "text/plain": [
       "{'resultFile': '/home/manuelnvro/dev/Gitted/PythonTesting/WorkingDir/OpenModelica/OpenIPSL.Examples.Controls.PSSE.ES.EXAC1_res.mat',\n",
       " 'simulationOptions': \"startTime = 0.0, stopTime = 10.0, numberOfIntervals = 5000, tolerance = 1e-06, method = 'dassl', fileNamePrefix = 'OpenIPSL.Examples.Controls.PSSE.ES.EXAC1', options = '', outputFormat = 'mat', variableFilter = '.*', cflags = '', simflags = ''\",\n",
       " 'messages': 'LOG_SUCCESS       | info    | The initialization finished successfully without homotopy method.\\nLOG_SUCCESS       | info    | The simulation finished successfully.\\n',\n",
       " 'timeFrontend': 0.4093236029999999,\n",
       " 'timeBackend': 0.152882286,\n",
       " 'timeSimCode': 0.044746145,\n",
       " 'timeTemplates': 0.018624589,\n",
       " 'timeCompile': 0.853127352,\n",
       " 'timeSimulation': 0.271393924,\n",
       " 'timeTotal': 1.750177556}"
      ]
     },
     "execution_count": 74,
     "metadata": {},
     "output_type": "execute_result"
    }
   ],
   "source": [
    "omc.sendExpression(\"simulate(OpenIPSL.Examples.Controls.PSSE.ES.EXAC1, stopTime=10.0, numberOfIntervals=5000)\")"
   ]
  },
  {
   "cell_type": "code",
   "execution_count": 75,
   "metadata": {},
   "outputs": [
    {
     "name": "stdout",
     "output_type": "stream",
     "text": [
      "Vars OK\n",
      "Write OK\n"
     ]
    }
   ],
   "source": [
    "sim = SimRes(\"/home/manuelnvro/dev/Gitted/PythonTesting/WorkingDir/OpenModelica/OpenIPSL.Examples.Controls.PSSE.ES.EXAC1_res.mat\")\n",
    "variables = ['Time', 'gENROE.delta','gENROE.PELEC', 'eXAC1_1.EFD','gENROE.SPEED', 'GEN1.V', 'LOAD.V', 'GEN2.V', 'FAULT.V' ]\n",
    "df_variables = pd.DataFrame([], columns = variables)\n",
    "#print(df_variables.shape)\n",
    "for var in variables:\n",
    "    df_variables.drop(var, axis = 1, inplace = True)\n",
    "    df_variables[var] = np.array(sim[var].values())\n",
    "#varnames = {\"Time\",\"gENROE.delta\",\"gENROE.PELEC\"}\n",
    "#print(varnames)\n",
    "print(\"Vars OK\")\n",
    "df_variables.to_csv('dataOM.csv', index = False)\n",
    "#trajectories = dymola.readTrajectory(\"/home/dorads/Documents/Manuel/PythonTesting-master/WorkingDir/EXAC1.mat\",  {\"Time\",\"gENROE.delta\",\"gENROE.PELEC\"}, n)\n",
    "#print(\"Trajectories OK\")\n",
    "#dymola.DataFiles.writeCSVmatrix(\"EXAC1.csv\",varnames,transpose(trajectories))\n",
    "print(\"Write OK\")\n"
   ]
  }
 ],
 "metadata": {
  "kernelspec": {
   "display_name": "Python 3",
   "language": "python",
   "name": "python3"
  },
  "language_info": {
   "codemirror_mode": {
    "name": "ipython",
    "version": 3
   },
   "file_extension": ".py",
   "mimetype": "text/x-python",
   "name": "python",
   "nbconvert_exporter": "python",
   "pygments_lexer": "ipython3",
   "version": "3.7.4"
  }
 },
 "nbformat": 4,
 "nbformat_minor": 2
}
